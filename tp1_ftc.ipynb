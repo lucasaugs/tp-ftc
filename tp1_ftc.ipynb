{
  "nbformat": 4,
  "nbformat_minor": 0,
  "metadata": {
    "colab": {
      "name": "tp1-ftc.ipynb",
      "provenance": [],
      "collapsed_sections": [
        "5iNe5d-P_9nv",
        "V3O62kRmAhBR",
        "U7503XcJBfuR"
      ],
      "authorship_tag": "ABX9TyOPS1mA9leUppEQnbQ/X3+u",
      "include_colab_link": true
    },
    "kernelspec": {
      "name": "python3",
      "display_name": "Python 3"
    }
  },
  "cells": [
    {
      "cell_type": "markdown",
      "metadata": {
        "id": "view-in-github",
        "colab_type": "text"
      },
      "source": [
        "<a href=\"https://colab.research.google.com/github/lucasaugs/tp-ftc/blob/main/tp1_ftc.ipynb\" target=\"_parent\"><img src=\"https://colab.research.google.com/assets/colab-badge.svg\" alt=\"Open In Colab\"/></a>"
      ]
    },
    {
      "cell_type": "code",
      "metadata": {
        "colab": {
          "base_uri": "https://localhost:8080/",
          "height": 35
        },
        "id": "3ycmELwqEdi4",
        "outputId": "2f5afea3-6523-4b43-e7b8-fc1e550e5dea"
      },
      "source": [
        "\"\"\"line = input()\r\n",
        "while(line != ''):\r\n",
        "  val = line.split(sep=',')\r\n",
        "  for i in range(2, len(val)):\r\n",
        "    trans[val[0]][val[i]].append(val[1])\r\n",
        "  line = input()\"\"\""
      ],
      "execution_count": 1,
      "outputs": [
        {
          "output_type": "execute_result",
          "data": {
            "application/vnd.google.colaboratory.intrinsic+json": {
              "type": "string"
            },
            "text/plain": [
              "\"line = input()\\nwhile(line != ''):\\n  val = line.split(sep=',')\\n  for i in range(2, len(val)):\\n    trans[val[0]][val[i]].append(val[1])\\n  line = input()\""
            ]
          },
          "metadata": {
            "tags": []
          },
          "execution_count": 1
        }
      ]
    },
    {
      "cell_type": "code",
      "metadata": {
        "id": "N9pCFIoorFKH"
      },
      "source": [
        "def remove(estado, transicoes, finais, mod):\r\n",
        "  for pred in transicoes[estado]['pred']:\r\n",
        "    for succ in transicoes[estado].keys():\r\n",
        "      exp = ''\r\n",
        "      if (succ != 'pred' and succ != estado):\r\n",
        "        print('E1: ', pred)\r\n",
        "        print('E: ', estado)\r\n",
        "        print('E2: ', succ)\r\n",
        "        if (succ == pred):\r\n",
        "          tran_old = transicoes[pred][estado]\r\n",
        "          if (estado not in transicoes[estado].keys()):\r\n",
        "            transicoes[pred][estado] = '((' + transicoes[pred][estado] + ')(' + transicoes[estado][pred] + '))*'\r\n",
        "            if (pred in transicoes[pred].keys()):\r\n",
        "              transicoes[pred][estado] = transicoes[pred][pred] + transicoes[pred][estado]\r\n",
        "              mod.append(pred)\r\n",
        "          else:\r\n",
        "            transicoes[pred][estado] = '((' + transicoes[pred][estado] + ')' + transicoes[estado][estado] + '(' + transicoes[estado][succ] + '))*'\r\n",
        "            if (pred in transicoes[pred].keys()):\r\n",
        "              transicoes[pred][estado] = transicoes[pred][pred] + transicoes[pred][estado]\r\n",
        "              mod.append(pred)\r\n",
        "          if (pred not in finais):\r\n",
        "            transicoes[pred][estado] += '(' + tran_old + ')' \r\n",
        "        else:\r\n",
        "          exp = transicoes[estado][succ]\r\n",
        "          if (estado in transicoes[estado].keys()):\r\n",
        "            exp = trans[estado][estado] + exp\r\n",
        "          if (succ not in transicoes[pred].keys()):\r\n",
        "            transicoes[pred][succ] = '(' + transicoes[pred][estado] + ')' + '(' + exp + ')'\r\n",
        "          else:\r\n",
        "            transicoes[pred][succ] = '(' + transicoes[pred][succ] + ')' + ' + ' + '(' + transicoes[pred][estado] + ')' + '(' + exp + ')'\r\n",
        "        if (estado in transicoes[succ]['pred']):\r\n",
        "          transicoes[succ]['pred'].remove(estado)\r\n",
        "        if (pred not in transicoes[succ]['pred']):\r\n",
        "          transicoes[succ]['pred'].append(pred)\r\n",
        "        print('- - - - - - - - -')\r\n",
        "  return transicoes   "
      ],
      "execution_count": 2,
      "outputs": []
    },
    {
      "cell_type": "markdown",
      "metadata": {
        "id": "7HjAhPgR_x5j"
      },
      "source": [
        "#  Autômato 1"
      ]
    },
    {
      "cell_type": "code",
      "metadata": {
        "id": "j475raCt5JK5"
      },
      "source": [
        "#line = input()\r\n",
        "line = 'x,x1,y,y1,z,z1,f'"
      ],
      "execution_count": 3,
      "outputs": []
    },
    {
      "cell_type": "code",
      "metadata": {
        "colab": {
          "base_uri": "https://localhost:8080/"
        },
        "id": "CZZ-dkU4-vX8",
        "outputId": "c18c9828-e764-47e2-97b8-30ecc11ef354"
      },
      "source": [
        "estados = line.split(sep=',')\r\n",
        "print(estados)"
      ],
      "execution_count": 4,
      "outputs": [
        {
          "output_type": "stream",
          "text": [
            "['x', 'x1', 'y', 'y1', 'z', 'z1', 'f']\n"
          ],
          "name": "stdout"
        }
      ]
    },
    {
      "cell_type": "code",
      "metadata": {
        "id": "DcX0AVbTAurY"
      },
      "source": [
        "#line = input()\r\n",
        "line = 'a,b'"
      ],
      "execution_count": 5,
      "outputs": []
    },
    {
      "cell_type": "code",
      "metadata": {
        "colab": {
          "base_uri": "https://localhost:8080/"
        },
        "id": "Cp01aiaGBLcb",
        "outputId": "21fd8be3-c826-473c-a35e-1fd72efa57b5"
      },
      "source": [
        "simb = line.split(sep=',')\r\n",
        "simb"
      ],
      "execution_count": 6,
      "outputs": [
        {
          "output_type": "execute_result",
          "data": {
            "text/plain": [
              "['a', 'b']"
            ]
          },
          "metadata": {
            "tags": []
          },
          "execution_count": 6
        }
      ]
    },
    {
      "cell_type": "code",
      "metadata": {
        "id": "czqvbjoJBT9p"
      },
      "source": [
        "#line = input()\r\n",
        "line = 'x,y'"
      ],
      "execution_count": 7,
      "outputs": []
    },
    {
      "cell_type": "code",
      "metadata": {
        "colab": {
          "base_uri": "https://localhost:8080/"
        },
        "id": "AjTjUnevBUqA",
        "outputId": "1402cd22-f664-42f2-f7a5-0a95a1a40525"
      },
      "source": [
        "iniciais = line.split(sep=',')\r\n",
        "iniciais"
      ],
      "execution_count": 8,
      "outputs": [
        {
          "output_type": "execute_result",
          "data": {
            "text/plain": [
              "['x', 'y']"
            ]
          },
          "metadata": {
            "tags": []
          },
          "execution_count": 8
        }
      ]
    },
    {
      "cell_type": "code",
      "metadata": {
        "id": "GOTHZ57nBc9I"
      },
      "source": [
        "#line = input()\r\n",
        "line = 'f'\r\n",
        "#line = 'i1'"
      ],
      "execution_count": 9,
      "outputs": []
    },
    {
      "cell_type": "code",
      "metadata": {
        "colab": {
          "base_uri": "https://localhost:8080/"
        },
        "id": "q6r92cjGBfGw",
        "outputId": "f6c9eea6-e148-4708-911e-faf57cfd473c"
      },
      "source": [
        "finais = line.split(sep=',')\r\n",
        "finais"
      ],
      "execution_count": 10,
      "outputs": [
        {
          "output_type": "execute_result",
          "data": {
            "text/plain": [
              "['f']"
            ]
          },
          "metadata": {
            "tags": []
          },
          "execution_count": 10
        }
      ]
    },
    {
      "cell_type": "code",
      "metadata": {
        "colab": {
          "base_uri": "https://localhost:8080/"
        },
        "id": "NPGqm9yIPguA",
        "outputId": "0c4f2604-b6e2-4a8d-9c36-5c1c148a8298"
      },
      "source": [
        "trans = {}\r\n",
        "for est in estados:\r\n",
        "  trans[est] = {}\r\n",
        "  trans[est]['pred'] = []\r\n",
        "  for est2 in estados:\r\n",
        "    trans[est][est2] = ''\r\n",
        "trans"
      ],
      "execution_count": 11,
      "outputs": [
        {
          "output_type": "execute_result",
          "data": {
            "text/plain": [
              "{'f': {'f': '',\n",
              "  'pred': [],\n",
              "  'x': '',\n",
              "  'x1': '',\n",
              "  'y': '',\n",
              "  'y1': '',\n",
              "  'z': '',\n",
              "  'z1': ''},\n",
              " 'x': {'f': '',\n",
              "  'pred': [],\n",
              "  'x': '',\n",
              "  'x1': '',\n",
              "  'y': '',\n",
              "  'y1': '',\n",
              "  'z': '',\n",
              "  'z1': ''},\n",
              " 'x1': {'f': '',\n",
              "  'pred': [],\n",
              "  'x': '',\n",
              "  'x1': '',\n",
              "  'y': '',\n",
              "  'y1': '',\n",
              "  'z': '',\n",
              "  'z1': ''},\n",
              " 'y': {'f': '',\n",
              "  'pred': [],\n",
              "  'x': '',\n",
              "  'x1': '',\n",
              "  'y': '',\n",
              "  'y1': '',\n",
              "  'z': '',\n",
              "  'z1': ''},\n",
              " 'y1': {'f': '',\n",
              "  'pred': [],\n",
              "  'x': '',\n",
              "  'x1': '',\n",
              "  'y': '',\n",
              "  'y1': '',\n",
              "  'z': '',\n",
              "  'z1': ''},\n",
              " 'z': {'f': '',\n",
              "  'pred': [],\n",
              "  'x': '',\n",
              "  'x1': '',\n",
              "  'y': '',\n",
              "  'y1': '',\n",
              "  'z': '',\n",
              "  'z1': ''},\n",
              " 'z1': {'f': '',\n",
              "  'pred': [],\n",
              "  'x': '',\n",
              "  'x1': '',\n",
              "  'y': '',\n",
              "  'y1': '',\n",
              "  'z': '',\n",
              "  'z1': ''}}"
            ]
          },
          "metadata": {
            "tags": []
          },
          "execution_count": 11
        }
      ]
    },
    {
      "cell_type": "code",
      "metadata": {
        "id": "i4mYzLZXufqd"
      },
      "source": [
        "inps = ['x,a,x,x1','x,b,x1','x1,b,z','x1,a,z1','y,a,y1','y,b,y,y1','y1,a,y,z','y1,b,y1','z1,a,f','z,a,f','z,b,f']"
      ],
      "execution_count": 12,
      "outputs": []
    },
    {
      "cell_type": "code",
      "metadata": {
        "id": "NpRpCNpPx4Ua"
      },
      "source": [
        "for line in inps:\r\n",
        "  val = line.split(sep=',')\r\n",
        "  for i in range(2, len(val)):\r\n",
        "    if (val[i] == ''):\r\n",
        "      val[i] = 'λ'\r\n",
        "    if (trans[val[0]][val[i]] == ''):\r\n",
        "      trans[val[0]][val[i]] += val[1]\r\n",
        "    else:   \r\n",
        "      trans[val[0]][val[i]] += ' + ' + val[1]\r\n",
        "    if val[0] not in trans[val[i]]['pred']:\r\n",
        "      trans[val[i]]['pred'].append(val[0])"
      ],
      "execution_count": 13,
      "outputs": []
    },
    {
      "cell_type": "code",
      "metadata": {
        "colab": {
          "base_uri": "https://localhost:8080/"
        },
        "id": "WJo_3nUMhLsM",
        "outputId": "e96a34fa-8e00-46b1-d420-1a05fa51347e"
      },
      "source": [
        "print(estados)\r\n",
        "trans"
      ],
      "execution_count": 14,
      "outputs": [
        {
          "output_type": "stream",
          "text": [
            "['x', 'x1', 'y', 'y1', 'z', 'z1', 'f']\n"
          ],
          "name": "stdout"
        },
        {
          "output_type": "execute_result",
          "data": {
            "text/plain": [
              "{'f': {'f': '',\n",
              "  'pred': ['z1', 'z'],\n",
              "  'x': '',\n",
              "  'x1': '',\n",
              "  'y': '',\n",
              "  'y1': '',\n",
              "  'z': '',\n",
              "  'z1': ''},\n",
              " 'x': {'f': '',\n",
              "  'pred': ['x'],\n",
              "  'x': 'a',\n",
              "  'x1': 'a + b',\n",
              "  'y': '',\n",
              "  'y1': '',\n",
              "  'z': '',\n",
              "  'z1': ''},\n",
              " 'x1': {'f': '',\n",
              "  'pred': ['x'],\n",
              "  'x': '',\n",
              "  'x1': '',\n",
              "  'y': '',\n",
              "  'y1': '',\n",
              "  'z': 'b',\n",
              "  'z1': 'a'},\n",
              " 'y': {'f': '',\n",
              "  'pred': ['y', 'y1'],\n",
              "  'x': '',\n",
              "  'x1': '',\n",
              "  'y': 'b',\n",
              "  'y1': 'a + b',\n",
              "  'z': '',\n",
              "  'z1': ''},\n",
              " 'y1': {'f': '',\n",
              "  'pred': ['y', 'y1'],\n",
              "  'x': '',\n",
              "  'x1': '',\n",
              "  'y': 'a',\n",
              "  'y1': 'b',\n",
              "  'z': 'a',\n",
              "  'z1': ''},\n",
              " 'z': {'f': 'a + b',\n",
              "  'pred': ['x1', 'y1'],\n",
              "  'x': '',\n",
              "  'x1': '',\n",
              "  'y': '',\n",
              "  'y1': '',\n",
              "  'z': '',\n",
              "  'z1': ''},\n",
              " 'z1': {'f': 'a',\n",
              "  'pred': ['x1'],\n",
              "  'x': '',\n",
              "  'x1': '',\n",
              "  'y': '',\n",
              "  'y1': '',\n",
              "  'z': '',\n",
              "  'z1': ''}}"
            ]
          },
          "metadata": {
            "tags": []
          },
          "execution_count": 14
        }
      ]
    },
    {
      "cell_type": "code",
      "metadata": {
        "colab": {
          "base_uri": "https://localhost:8080/"
        },
        "id": "559WvbySJMFo",
        "outputId": "dd19485f-3728-4539-c808-d0ad4a883858"
      },
      "source": [
        "for est in estados:\r\n",
        "  for est2 in estados:\r\n",
        "    if (len(trans[est][est2])==0):\r\n",
        "      trans[est].pop(est2)\r\n",
        "trans"
      ],
      "execution_count": 15,
      "outputs": [
        {
          "output_type": "execute_result",
          "data": {
            "text/plain": [
              "{'f': {'pred': ['z1', 'z']},\n",
              " 'x': {'pred': ['x'], 'x': 'a', 'x1': 'a + b'},\n",
              " 'x1': {'pred': ['x'], 'z': 'b', 'z1': 'a'},\n",
              " 'y': {'pred': ['y', 'y1'], 'y': 'b', 'y1': 'a + b'},\n",
              " 'y1': {'pred': ['y', 'y1'], 'y': 'a', 'y1': 'b', 'z': 'a'},\n",
              " 'z': {'f': 'a + b', 'pred': ['x1', 'y1']},\n",
              " 'z1': {'f': 'a', 'pred': ['x1']}}"
            ]
          },
          "metadata": {
            "tags": []
          },
          "execution_count": 15
        }
      ]
    },
    {
      "cell_type": "code",
      "metadata": {
        "id": "p7oMnmV2u4kZ",
        "colab": {
          "base_uri": "https://localhost:8080/"
        },
        "outputId": "c4746a61-e089-4f19-ab47-a264fa25a656"
      },
      "source": [
        "inter = []\r\n",
        "for est in estados:\r\n",
        "  if (est not in iniciais and est not in finais):\r\n",
        "    inter.append(est)\r\n",
        "  if (est in trans[est].keys()):\r\n",
        "    trans[est][est] = '(' + trans[est][est] + ')*'\r\n",
        "inter"
      ],
      "execution_count": 16,
      "outputs": [
        {
          "output_type": "execute_result",
          "data": {
            "text/plain": [
              "['x1', 'y1', 'z', 'z1']"
            ]
          },
          "metadata": {
            "tags": []
          },
          "execution_count": 16
        }
      ]
    },
    {
      "cell_type": "code",
      "metadata": {
        "id": "JZ6Om5Do6pbg",
        "colab": {
          "base_uri": "https://localhost:8080/"
        },
        "outputId": "c7518230-d2c0-4a51-e0cb-516e64535f1c"
      },
      "source": [
        "mod = []\r\n",
        "for est in inter:\r\n",
        "  trans = remove(est, trans, finais, mod)\r\n",
        "\r\n",
        "regex = ''\r\n",
        "counter = 0\r\n",
        "for inicial in iniciais:\r\n",
        "  if (inicial in trans[inicial].keys() and inicial not in mod):\r\n",
        "    regex += trans[inicial][inicial]\r\n",
        "  for final in finais:\r\n",
        "    if (final != 'pred' and final in trans[inicial].keys()):\r\n",
        "      print('inicial:', inicial)\r\n",
        "      print('final:', final)\r\n",
        "      print(regex)\r\n",
        "      if (counter == 0):\r\n",
        "        regex += '(' + trans[inicial][final] + ')'\r\n",
        "      else:\r\n",
        "        regex += ' + (' + trans[inicial][final] + ')'\r\n",
        "      print(regex)\r\n",
        "      counter += 1"
      ],
      "execution_count": 17,
      "outputs": [
        {
          "output_type": "stream",
          "text": [
            "E1:  x\n",
            "E:  x1\n",
            "E2:  z\n",
            "- - - - - - - - -\n",
            "E1:  x\n",
            "E:  x1\n",
            "E2:  z1\n",
            "- - - - - - - - -\n",
            "E1:  y\n",
            "E:  y1\n",
            "E2:  y\n",
            "- - - - - - - - -\n",
            "E1:  y\n",
            "E:  y1\n",
            "E2:  z\n",
            "- - - - - - - - -\n",
            "E1:  y1\n",
            "E:  y1\n",
            "E2:  y\n",
            "- - - - - - - - -\n",
            "E1:  y1\n",
            "E:  y1\n",
            "E2:  z\n",
            "- - - - - - - - -\n",
            "E1:  x\n",
            "E:  z\n",
            "E2:  f\n",
            "- - - - - - - - -\n",
            "E1:  y\n",
            "E:  z\n",
            "E2:  f\n",
            "- - - - - - - - -\n",
            "E1:  y1\n",
            "E:  z\n",
            "E2:  f\n",
            "- - - - - - - - -\n",
            "E1:  x\n",
            "E:  z1\n",
            "E2:  f\n",
            "- - - - - - - - -\n",
            "inicial: x\n",
            "final: f\n",
            "(a)*\n",
            "(a)*((((a + b)(b))(a + b)) + ((a + b)(a))(a))\n",
            "inicial: y\n",
            "final: f\n",
            "(a)*((((a + b)(b))(a + b)) + ((a + b)(a))(a))\n",
            "(a)*((((a + b)(b))(a + b)) + ((a + b)(a))(a)) + ((((b)*((a + b)(b)*(a))*(a + b))((b)*a))(a + b))\n"
          ],
          "name": "stdout"
        }
      ]
    },
    {
      "cell_type": "code",
      "metadata": {
        "colab": {
          "base_uri": "https://localhost:8080/",
          "height": 35
        },
        "id": "TEAzTpl5p1jz",
        "outputId": "94257f66-b5fd-4674-bf60-8ca3f5906d79"
      },
      "source": [
        "regex"
      ],
      "execution_count": 18,
      "outputs": [
        {
          "output_type": "execute_result",
          "data": {
            "application/vnd.google.colaboratory.intrinsic+json": {
              "type": "string"
            },
            "text/plain": [
              "'(a)*((((a + b)(b))(a + b)) + ((a + b)(a))(a)) + ((((b)*((a + b)(b)*(a))*(a + b))((b)*a))(a + b))'"
            ]
          },
          "metadata": {
            "tags": []
          },
          "execution_count": 18
        }
      ]
    },
    {
      "cell_type": "code",
      "metadata": {
        "id": "-PAsNrBAAKrD",
        "colab": {
          "base_uri": "https://localhost:8080/"
        },
        "outputId": "d71ad6d7-2369-4008-f6f0-a4a3dd8c773a"
      },
      "source": [
        "regex == '(a)*((((a + b)(b))(a + b)) + ((a + b)(a))(a)) + ((((b)*((a + b)(b)*(a))*(a + b))((b)*a))(a + b))'"
      ],
      "execution_count": 19,
      "outputs": [
        {
          "output_type": "execute_result",
          "data": {
            "text/plain": [
              "True"
            ]
          },
          "metadata": {
            "tags": []
          },
          "execution_count": 19
        }
      ]
    },
    {
      "cell_type": "code",
      "metadata": {
        "colab": {
          "base_uri": "https://localhost:8080/"
        },
        "id": "ap-P8fMheWeS",
        "outputId": "679e8eaa-25b3-4ef3-e32e-4fef6f82a7ca"
      },
      "source": [
        "trans"
      ],
      "execution_count": 20,
      "outputs": [
        {
          "output_type": "execute_result",
          "data": {
            "text/plain": [
              "{'f': {'pred': ['x', 'y', 'y1']},\n",
              " 'x': {'f': '(((a + b)(b))(a + b)) + ((a + b)(a))(a)',\n",
              "  'pred': ['x'],\n",
              "  'x': '(a)*',\n",
              "  'x1': 'a + b',\n",
              "  'z': '(a + b)(b)',\n",
              "  'z1': '(a + b)(a)'},\n",
              " 'x1': {'pred': ['x'], 'z': 'b', 'z1': 'a'},\n",
              " 'y': {'f': '(((b)*((a + b)(b)*(a))*(a + b))((b)*a))(a + b)',\n",
              "  'pred': ['y', 'y1'],\n",
              "  'y': '(b)*',\n",
              "  'y1': '(b)*((a + b)(b)*(a))*(a + b)',\n",
              "  'z': '((b)*((a + b)(b)*(a))*(a + b))((b)*a)'},\n",
              " 'y1': {'f': '((a) + ((b)*)((b)*a))(a + b)',\n",
              "  'pred': ['y', 'y1'],\n",
              "  'y': '(a) + ((b)*)((b)*a)',\n",
              "  'y1': '(b)*',\n",
              "  'z': '(a) + ((b)*)((b)*a)'},\n",
              " 'z': {'f': 'a + b', 'pred': ['x', 'y', 'y1']},\n",
              " 'z1': {'f': 'a', 'pred': ['x']}}"
            ]
          },
          "metadata": {
            "tags": []
          },
          "execution_count": 20
        }
      ]
    },
    {
      "cell_type": "markdown",
      "metadata": {
        "id": "5iNe5d-P_9nv"
      },
      "source": [
        "# Autômato 2"
      ]
    },
    {
      "cell_type": "code",
      "metadata": {
        "id": "Yy7xKhQu-kHS"
      },
      "source": [
        "#line = input()\r\n",
        "line = 'x,x1,x2'"
      ],
      "execution_count": 21,
      "outputs": []
    },
    {
      "cell_type": "code",
      "metadata": {
        "colab": {
          "base_uri": "https://localhost:8080/"
        },
        "id": "9mAGil_x-kHa",
        "outputId": "3e8e1ae3-7e0e-4b13-9216-66667888e03a"
      },
      "source": [
        "estados = line.split(sep=',')\r\n",
        "print(estados)"
      ],
      "execution_count": 22,
      "outputs": [
        {
          "output_type": "stream",
          "text": [
            "['x', 'x1', 'x2']\n"
          ],
          "name": "stdout"
        }
      ]
    },
    {
      "cell_type": "code",
      "metadata": {
        "id": "VEsuiMNi-kHb"
      },
      "source": [
        "#line = input()\r\n",
        "line = '0,1'\r\n",
        "#line = 'a,b'"
      ],
      "execution_count": 23,
      "outputs": []
    },
    {
      "cell_type": "code",
      "metadata": {
        "colab": {
          "base_uri": "https://localhost:8080/"
        },
        "id": "xbwuYC4e-kHb",
        "outputId": "3dad0835-e0da-4ec7-e496-5cf7ab5bfacb"
      },
      "source": [
        "simb = line.split(sep=',')\r\n",
        "simb"
      ],
      "execution_count": 24,
      "outputs": [
        {
          "output_type": "execute_result",
          "data": {
            "text/plain": [
              "['0', '1']"
            ]
          },
          "metadata": {
            "tags": []
          },
          "execution_count": 24
        }
      ]
    },
    {
      "cell_type": "code",
      "metadata": {
        "id": "D0acvuS_-kHb"
      },
      "source": [
        "#line = input()\r\n",
        "line = 'x'\r\n",
        "#line = 'p0'"
      ],
      "execution_count": 25,
      "outputs": []
    },
    {
      "cell_type": "code",
      "metadata": {
        "colab": {
          "base_uri": "https://localhost:8080/"
        },
        "id": "y5IcbA34-kHc",
        "outputId": "2a823c92-1c54-4adc-b362-8a8ea8653e1d"
      },
      "source": [
        "iniciais = line.split(sep=',')\r\n",
        "iniciais"
      ],
      "execution_count": 26,
      "outputs": [
        {
          "output_type": "execute_result",
          "data": {
            "text/plain": [
              "['x']"
            ]
          },
          "metadata": {
            "tags": []
          },
          "execution_count": 26
        }
      ]
    },
    {
      "cell_type": "code",
      "metadata": {
        "id": "eFbtx_DK-kHc"
      },
      "source": [
        "#line = input()\r\n",
        "line = 'x'\r\n",
        "#line = 'i1'"
      ],
      "execution_count": 27,
      "outputs": []
    },
    {
      "cell_type": "code",
      "metadata": {
        "colab": {
          "base_uri": "https://localhost:8080/"
        },
        "id": "D5nGbVUq-kHc",
        "outputId": "89800085-8657-4ce4-d14c-a40335de3779"
      },
      "source": [
        "finais = line.split(sep=',')\r\n",
        "finais"
      ],
      "execution_count": 28,
      "outputs": [
        {
          "output_type": "execute_result",
          "data": {
            "text/plain": [
              "['x']"
            ]
          },
          "metadata": {
            "tags": []
          },
          "execution_count": 28
        }
      ]
    },
    {
      "cell_type": "code",
      "metadata": {
        "colab": {
          "base_uri": "https://localhost:8080/"
        },
        "id": "lJUpcib1-kHc",
        "outputId": "82b2eb97-ff9b-4e58-e642-1f18bb5ba0cd"
      },
      "source": [
        "trans = {}\r\n",
        "for est in estados:\r\n",
        "  trans[est] = {}\r\n",
        "  trans[est]['pred'] = []\r\n",
        "  for est2 in estados:\r\n",
        "    trans[est][est2] = ''\r\n",
        "trans"
      ],
      "execution_count": 29,
      "outputs": [
        {
          "output_type": "execute_result",
          "data": {
            "text/plain": [
              "{'x': {'pred': [], 'x': '', 'x1': '', 'x2': ''},\n",
              " 'x1': {'pred': [], 'x': '', 'x1': '', 'x2': ''},\n",
              " 'x2': {'pred': [], 'x': '', 'x1': '', 'x2': ''}}"
            ]
          },
          "metadata": {
            "tags": []
          },
          "execution_count": 29
        }
      ]
    },
    {
      "cell_type": "code",
      "metadata": {
        "id": "5y7YuiGA-kHd"
      },
      "source": [
        "inps = ['x,0,x1,x','x1,0,x','x,1,x,x2','x2,0,x1']"
      ],
      "execution_count": 30,
      "outputs": []
    },
    {
      "cell_type": "code",
      "metadata": {
        "id": "03K0ynSu-kHd"
      },
      "source": [
        "for line in inps:\r\n",
        "  val = line.split(sep=',')\r\n",
        "  for i in range(2, len(val)):\r\n",
        "    if (val[i] == ''):\r\n",
        "      val[i] = 'λ'\r\n",
        "    if (trans[val[0]][val[i]] == ''):\r\n",
        "      trans[val[0]][val[i]] += val[1]\r\n",
        "    else:   \r\n",
        "      trans[val[0]][val[i]] += ' + ' + val[1]\r\n",
        "    if val[0] not in trans[val[i]]['pred']:\r\n",
        "      trans[val[i]]['pred'].append(val[0])"
      ],
      "execution_count": 31,
      "outputs": []
    },
    {
      "cell_type": "code",
      "metadata": {
        "colab": {
          "base_uri": "https://localhost:8080/"
        },
        "id": "s5sOoVFg-kHe",
        "outputId": "6ab58205-cead-4f03-d53d-8ac93c0bf306"
      },
      "source": [
        "print(estados)\r\n",
        "trans"
      ],
      "execution_count": 32,
      "outputs": [
        {
          "output_type": "stream",
          "text": [
            "['x', 'x1', 'x2']\n"
          ],
          "name": "stdout"
        },
        {
          "output_type": "execute_result",
          "data": {
            "text/plain": [
              "{'x': {'pred': ['x', 'x1'], 'x': '0 + 1', 'x1': '0', 'x2': '1'},\n",
              " 'x1': {'pred': ['x', 'x2'], 'x': '0', 'x1': '', 'x2': ''},\n",
              " 'x2': {'pred': ['x'], 'x': '', 'x1': '0', 'x2': ''}}"
            ]
          },
          "metadata": {
            "tags": []
          },
          "execution_count": 32
        }
      ]
    },
    {
      "cell_type": "code",
      "metadata": {
        "colab": {
          "base_uri": "https://localhost:8080/"
        },
        "id": "MEBAXjVB-kHe",
        "outputId": "a3a7cc53-3d40-4f9b-fc05-b589805984ee"
      },
      "source": [
        "for est in estados:\r\n",
        "  for est2 in estados:\r\n",
        "    if (len(trans[est][est2])==0):\r\n",
        "      trans[est].pop(est2)\r\n",
        "trans"
      ],
      "execution_count": 33,
      "outputs": [
        {
          "output_type": "execute_result",
          "data": {
            "text/plain": [
              "{'x': {'pred': ['x', 'x1'], 'x': '0 + 1', 'x1': '0', 'x2': '1'},\n",
              " 'x1': {'pred': ['x', 'x2'], 'x': '0'},\n",
              " 'x2': {'pred': ['x'], 'x1': '0'}}"
            ]
          },
          "metadata": {
            "tags": []
          },
          "execution_count": 33
        }
      ]
    },
    {
      "cell_type": "code",
      "metadata": {
        "colab": {
          "base_uri": "https://localhost:8080/"
        },
        "id": "pWyaAWLF-kHe",
        "outputId": "b2e06032-1de5-48d8-d12d-070d4becf7e4"
      },
      "source": [
        "inter = []\r\n",
        "for est in estados:\r\n",
        "  if (est not in iniciais and est not in finais):\r\n",
        "    inter.append(est)\r\n",
        "  if (est in trans[est].keys()):\r\n",
        "    trans[est][est] = '(' + trans[est][est] + ')*'\r\n",
        "inter"
      ],
      "execution_count": 34,
      "outputs": [
        {
          "output_type": "execute_result",
          "data": {
            "text/plain": [
              "['x1', 'x2']"
            ]
          },
          "metadata": {
            "tags": []
          },
          "execution_count": 34
        }
      ]
    },
    {
      "cell_type": "code",
      "metadata": {
        "colab": {
          "base_uri": "https://localhost:8080/"
        },
        "id": "JAx5BJWj-kHe",
        "outputId": "dde57517-a7f6-47b4-9a3e-6e5288ba6350"
      },
      "source": [
        "mod = []\r\n",
        "for est in inter:\r\n",
        "  trans = remove(est, trans, finais, mod)\r\n",
        "\r\n",
        "regex = ''\r\n",
        "counter = 0\r\n",
        "for inicial in iniciais:\r\n",
        "  if (inicial in trans[inicial].keys() and inicial not in mod):\r\n",
        "    regex += trans[inicial][inicial]\r\n",
        "  for final in finais:\r\n",
        "    if (final != 'pred' and final in trans[inicial].keys()):\r\n",
        "      print('inicial:', inicial)\r\n",
        "      print('final:', final)\r\n",
        "      print(regex)\r\n",
        "      if (counter == 0):\r\n",
        "        regex += '(' + trans[inicial][final] + ')'\r\n",
        "      else:\r\n",
        "        regex += ' + (' + trans[inicial][final] + ')'\r\n",
        "      print(regex)\r\n",
        "      counter += 1"
      ],
      "execution_count": 35,
      "outputs": [
        {
          "output_type": "stream",
          "text": [
            "E1:  x\n",
            "E:  x1\n",
            "E2:  x\n",
            "- - - - - - - - -\n",
            "E1:  x2\n",
            "E:  x1\n",
            "E2:  x\n",
            "- - - - - - - - -\n",
            "E1:  x\n",
            "E:  x2\n",
            "E2:  x1\n",
            "- - - - - - - - -\n",
            "E1:  x\n",
            "E:  x2\n",
            "E2:  x\n",
            "- - - - - - - - -\n",
            "inicial: x\n",
            "final: x\n",
            "\n",
            "((0 + 1)*)\n"
          ],
          "name": "stdout"
        }
      ]
    },
    {
      "cell_type": "code",
      "metadata": {
        "id": "fZvUYQXD-kHf"
      },
      "source": [
        ""
      ],
      "execution_count": 35,
      "outputs": []
    },
    {
      "cell_type": "code",
      "metadata": {
        "colab": {
          "base_uri": "https://localhost:8080/",
          "height": 35
        },
        "id": "bGejGVn6-kHf",
        "outputId": "51cfc102-24fa-4d06-cbf1-c1a50ca4f8d5"
      },
      "source": [
        "regex"
      ],
      "execution_count": 36,
      "outputs": [
        {
          "output_type": "execute_result",
          "data": {
            "application/vnd.google.colaboratory.intrinsic+json": {
              "type": "string"
            },
            "text/plain": [
              "'((0 + 1)*)'"
            ]
          },
          "metadata": {
            "tags": []
          },
          "execution_count": 36
        }
      ]
    },
    {
      "cell_type": "code",
      "metadata": {
        "colab": {
          "base_uri": "https://localhost:8080/"
        },
        "id": "LrArhYUX-kHf",
        "outputId": "2c0b4e82-f348-4646-a531-6c71f6181936"
      },
      "source": [
        "trans"
      ],
      "execution_count": 37,
      "outputs": [
        {
          "output_type": "execute_result",
          "data": {
            "text/plain": [
              "{'x': {'pred': ['x'],\n",
              "  'x': '(0 + 1)*',\n",
              "  'x1': '((0 + 1)*((0)(0))*) + (1)(0)',\n",
              "  'x2': '(0 + 1)*((1)((0)(0)))*'},\n",
              " 'x1': {'pred': ['x'], 'x': '0'},\n",
              " 'x2': {'pred': ['x'], 'x': '(0)(0)', 'x1': '0'}}"
            ]
          },
          "metadata": {
            "tags": []
          },
          "execution_count": 37
        }
      ]
    },
    {
      "cell_type": "markdown",
      "metadata": {
        "id": "V3O62kRmAhBR"
      },
      "source": [
        "# Autômato 3"
      ]
    },
    {
      "cell_type": "code",
      "metadata": {
        "id": "V8hsxlREAhBc"
      },
      "source": [
        "#line = input()\r\n",
        "line = 'x,x1'"
      ],
      "execution_count": 38,
      "outputs": []
    },
    {
      "cell_type": "code",
      "metadata": {
        "colab": {
          "base_uri": "https://localhost:8080/"
        },
        "id": "oCOMgdb5AhBc",
        "outputId": "63b75269-424f-4fe1-fe27-097a753126ce"
      },
      "source": [
        "estados = line.split(sep=',')\r\n",
        "print(estados)"
      ],
      "execution_count": 39,
      "outputs": [
        {
          "output_type": "stream",
          "text": [
            "['x', 'x1']\n"
          ],
          "name": "stdout"
        }
      ]
    },
    {
      "cell_type": "code",
      "metadata": {
        "id": "8vPVL9tmAhBd"
      },
      "source": [
        "#line = input()\r\n",
        "line = '0,1'"
      ],
      "execution_count": 40,
      "outputs": []
    },
    {
      "cell_type": "code",
      "metadata": {
        "colab": {
          "base_uri": "https://localhost:8080/"
        },
        "id": "Rt4lqIznAhBe",
        "outputId": "5a8360a5-1e6f-4673-873a-06eaa4123923"
      },
      "source": [
        "simb = line.split(sep=',')\r\n",
        "simb"
      ],
      "execution_count": 41,
      "outputs": [
        {
          "output_type": "execute_result",
          "data": {
            "text/plain": [
              "['0', '1']"
            ]
          },
          "metadata": {
            "tags": []
          },
          "execution_count": 41
        }
      ]
    },
    {
      "cell_type": "code",
      "metadata": {
        "id": "w_VaIAllAhBe"
      },
      "source": [
        "#line = input()\r\n",
        "line = 'x'"
      ],
      "execution_count": 42,
      "outputs": []
    },
    {
      "cell_type": "code",
      "metadata": {
        "colab": {
          "base_uri": "https://localhost:8080/"
        },
        "id": "_p3MzwIZAhBe",
        "outputId": "75a5765b-acd9-4994-9b13-5dc5530e5e81"
      },
      "source": [
        "iniciais = line.split(sep=',')\r\n",
        "iniciais"
      ],
      "execution_count": 43,
      "outputs": [
        {
          "output_type": "execute_result",
          "data": {
            "text/plain": [
              "['x']"
            ]
          },
          "metadata": {
            "tags": []
          },
          "execution_count": 43
        }
      ]
    },
    {
      "cell_type": "code",
      "metadata": {
        "id": "34z6VFxkAhBf"
      },
      "source": [
        "#line = input()\r\n",
        "line = 'x'"
      ],
      "execution_count": 44,
      "outputs": []
    },
    {
      "cell_type": "code",
      "metadata": {
        "colab": {
          "base_uri": "https://localhost:8080/"
        },
        "id": "PkAn_YatAhBf",
        "outputId": "b36a48f4-3c42-48b2-ca6e-edaba617f245"
      },
      "source": [
        "finais = line.split(sep=',')\r\n",
        "finais"
      ],
      "execution_count": 45,
      "outputs": [
        {
          "output_type": "execute_result",
          "data": {
            "text/plain": [
              "['x']"
            ]
          },
          "metadata": {
            "tags": []
          },
          "execution_count": 45
        }
      ]
    },
    {
      "cell_type": "code",
      "metadata": {
        "colab": {
          "base_uri": "https://localhost:8080/"
        },
        "id": "utTTnmevAhBf",
        "outputId": "4609d70c-60c2-4fd2-a5bc-2908daf8b1a2"
      },
      "source": [
        "trans = {}\r\n",
        "for est in estados:\r\n",
        "  trans[est] = {}\r\n",
        "  trans[est]['pred'] = []\r\n",
        "  for est2 in estados:\r\n",
        "    trans[est][est2] = ''\r\n",
        "trans"
      ],
      "execution_count": 46,
      "outputs": [
        {
          "output_type": "execute_result",
          "data": {
            "text/plain": [
              "{'x': {'pred': [], 'x': '', 'x1': ''}, 'x1': {'pred': [], 'x': '', 'x1': ''}}"
            ]
          },
          "metadata": {
            "tags": []
          },
          "execution_count": 46
        }
      ]
    },
    {
      "cell_type": "code",
      "metadata": {
        "id": "zc9VSdfCAhBg"
      },
      "source": [
        "inps = ['x,0,x1,x','x1,0,x','x,1,x']"
      ],
      "execution_count": 47,
      "outputs": []
    },
    {
      "cell_type": "code",
      "metadata": {
        "id": "DdT8OebwAhBg"
      },
      "source": [
        "for line in inps:\r\n",
        "  val = line.split(sep=',')\r\n",
        "  for i in range(2, len(val)):\r\n",
        "    if (val[i] == ''):\r\n",
        "      val[i] = 'λ'\r\n",
        "    if (trans[val[0]][val[i]] == ''):\r\n",
        "      trans[val[0]][val[i]] += val[1]\r\n",
        "    else:   \r\n",
        "      trans[val[0]][val[i]] += ' + ' + val[1]\r\n",
        "    if val[0] not in trans[val[i]]['pred']:\r\n",
        "      trans[val[i]]['pred'].append(val[0])"
      ],
      "execution_count": 48,
      "outputs": []
    },
    {
      "cell_type": "code",
      "metadata": {
        "colab": {
          "base_uri": "https://localhost:8080/"
        },
        "id": "8EhYtqh2AhBg",
        "outputId": "6ae61ec1-519f-4126-ac12-d07099c645eb"
      },
      "source": [
        "print(estados)\r\n",
        "trans"
      ],
      "execution_count": 49,
      "outputs": [
        {
          "output_type": "stream",
          "text": [
            "['x', 'x1']\n"
          ],
          "name": "stdout"
        },
        {
          "output_type": "execute_result",
          "data": {
            "text/plain": [
              "{'x': {'pred': ['x', 'x1'], 'x': '0 + 1', 'x1': '0'},\n",
              " 'x1': {'pred': ['x'], 'x': '0', 'x1': ''}}"
            ]
          },
          "metadata": {
            "tags": []
          },
          "execution_count": 49
        }
      ]
    },
    {
      "cell_type": "code",
      "metadata": {
        "colab": {
          "base_uri": "https://localhost:8080/"
        },
        "id": "jJNgSdfDAhBh",
        "outputId": "b69c58bb-4aba-41b7-ab45-39d7ccc89d56"
      },
      "source": [
        "for est in estados:\r\n",
        "  for est2 in estados:\r\n",
        "    if (len(trans[est][est2])==0):\r\n",
        "      trans[est].pop(est2)\r\n",
        "trans"
      ],
      "execution_count": 50,
      "outputs": [
        {
          "output_type": "execute_result",
          "data": {
            "text/plain": [
              "{'x': {'pred': ['x', 'x1'], 'x': '0 + 1', 'x1': '0'},\n",
              " 'x1': {'pred': ['x'], 'x': '0'}}"
            ]
          },
          "metadata": {
            "tags": []
          },
          "execution_count": 50
        }
      ]
    },
    {
      "cell_type": "code",
      "metadata": {
        "colab": {
          "base_uri": "https://localhost:8080/"
        },
        "id": "cmw1fp3jAhBh",
        "outputId": "d3a96f87-68c1-4fc3-90e7-4c3f5a1c289a"
      },
      "source": [
        "inter = []\r\n",
        "for est in estados:\r\n",
        "  if (est not in iniciais and est not in finais):\r\n",
        "    inter.append(est)\r\n",
        "  if (est in trans[est].keys()):\r\n",
        "    trans[est][est] = '(' + trans[est][est] + ')*'\r\n",
        "inter"
      ],
      "execution_count": 51,
      "outputs": [
        {
          "output_type": "execute_result",
          "data": {
            "text/plain": [
              "['x1']"
            ]
          },
          "metadata": {
            "tags": []
          },
          "execution_count": 51
        }
      ]
    },
    {
      "cell_type": "code",
      "metadata": {
        "colab": {
          "base_uri": "https://localhost:8080/"
        },
        "id": "reo5T3i1AhBh",
        "outputId": "aad698e5-4425-4fa9-9320-e4b02d754260"
      },
      "source": [
        "mod = []\r\n",
        "for est in inter:\r\n",
        "  trans = remove(est, trans, finais, mod)\r\n",
        "\r\n",
        "regex = ''\r\n",
        "counter = 0\r\n",
        "for inicial in iniciais:\r\n",
        "  if (inicial in trans[inicial].keys() and inicial not in mod):\r\n",
        "    regex += trans[inicial][inicial]\r\n",
        "  for final in finais:\r\n",
        "    if (final != 'pred' and final in trans[inicial].keys()):\r\n",
        "      print('inicial:', inicial)\r\n",
        "      print('final:', final)\r\n",
        "      print(regex)\r\n",
        "      if (counter == 0):\r\n",
        "        regex += '(' + trans[inicial][final] + ')'\r\n",
        "      else:\r\n",
        "        regex += ' + (' + trans[inicial][final] + ')'\r\n",
        "      print(regex)\r\n",
        "      counter += 1"
      ],
      "execution_count": 52,
      "outputs": [
        {
          "output_type": "stream",
          "text": [
            "E1:  x\n",
            "E:  x1\n",
            "E2:  x\n",
            "- - - - - - - - -\n",
            "inicial: x\n",
            "final: x\n",
            "\n",
            "((0 + 1)*)\n"
          ],
          "name": "stdout"
        }
      ]
    },
    {
      "cell_type": "code",
      "metadata": {
        "id": "1aIEYKzUAhBi"
      },
      "source": [
        ""
      ],
      "execution_count": 52,
      "outputs": []
    },
    {
      "cell_type": "code",
      "metadata": {
        "colab": {
          "base_uri": "https://localhost:8080/",
          "height": 35
        },
        "id": "z7bCnjbTAhBi",
        "outputId": "56b0eb61-eaea-4aa1-cdef-6003449f2ff2"
      },
      "source": [
        "regex"
      ],
      "execution_count": 53,
      "outputs": [
        {
          "output_type": "execute_result",
          "data": {
            "application/vnd.google.colaboratory.intrinsic+json": {
              "type": "string"
            },
            "text/plain": [
              "'((0 + 1)*)'"
            ]
          },
          "metadata": {
            "tags": []
          },
          "execution_count": 53
        }
      ]
    },
    {
      "cell_type": "code",
      "metadata": {
        "colab": {
          "base_uri": "https://localhost:8080/"
        },
        "id": "TI8IZMMMAhBi",
        "outputId": "b36c9a1c-02fd-44fb-a6e3-bb4c17ce2130"
      },
      "source": [
        "trans"
      ],
      "execution_count": 54,
      "outputs": [
        {
          "output_type": "execute_result",
          "data": {
            "text/plain": [
              "{'x': {'pred': ['x'], 'x': '(0 + 1)*', 'x1': '(0 + 1)*((0)(0))*'},\n",
              " 'x1': {'pred': ['x'], 'x': '0'}}"
            ]
          },
          "metadata": {
            "tags": []
          },
          "execution_count": 54
        }
      ]
    },
    {
      "cell_type": "markdown",
      "metadata": {
        "id": "U7503XcJBfuR"
      },
      "source": [
        "# Autômato 4"
      ]
    },
    {
      "cell_type": "code",
      "metadata": {
        "id": "q4W9we4aBfuU"
      },
      "source": [
        "#line = input()\r\n",
        "line = 'p0,p1,i0,i1'"
      ],
      "execution_count": 55,
      "outputs": []
    },
    {
      "cell_type": "code",
      "metadata": {
        "colab": {
          "base_uri": "https://localhost:8080/"
        },
        "id": "QhK9mNigBfuV",
        "outputId": "06496502-8b16-4c99-8ecf-6b4cae9c3e4f"
      },
      "source": [
        "estados = line.split(sep=',')\r\n",
        "print(estados)"
      ],
      "execution_count": 56,
      "outputs": [
        {
          "output_type": "stream",
          "text": [
            "['p0', 'p1', 'i0', 'i1']\n"
          ],
          "name": "stdout"
        }
      ]
    },
    {
      "cell_type": "code",
      "metadata": {
        "id": "0XXRNzWyBfuW"
      },
      "source": [
        "#line = input()\r\n",
        "line = 'a,b'"
      ],
      "execution_count": 57,
      "outputs": []
    },
    {
      "cell_type": "code",
      "metadata": {
        "colab": {
          "base_uri": "https://localhost:8080/"
        },
        "id": "z_-yaOnLBfuW",
        "outputId": "28134a82-b0c1-41fd-8b59-636439c329cb"
      },
      "source": [
        "simb = line.split(sep=',')\r\n",
        "simb"
      ],
      "execution_count": 58,
      "outputs": [
        {
          "output_type": "execute_result",
          "data": {
            "text/plain": [
              "['a', 'b']"
            ]
          },
          "metadata": {
            "tags": []
          },
          "execution_count": 58
        }
      ]
    },
    {
      "cell_type": "code",
      "metadata": {
        "id": "BAaILtiZBfuW"
      },
      "source": [
        "#line = input()\r\n",
        "line = 'p0'"
      ],
      "execution_count": 59,
      "outputs": []
    },
    {
      "cell_type": "code",
      "metadata": {
        "colab": {
          "base_uri": "https://localhost:8080/"
        },
        "id": "2FwSzEMkBfuX",
        "outputId": "d3b737cf-4b06-427f-8a45-13ed58842f01"
      },
      "source": [
        "iniciais = line.split(sep=',')\r\n",
        "iniciais"
      ],
      "execution_count": 60,
      "outputs": [
        {
          "output_type": "execute_result",
          "data": {
            "text/plain": [
              "['p0']"
            ]
          },
          "metadata": {
            "tags": []
          },
          "execution_count": 60
        }
      ]
    },
    {
      "cell_type": "code",
      "metadata": {
        "id": "2qUc2P5NBfuX"
      },
      "source": [
        "#line = input()\r\n",
        "line = 'i1'"
      ],
      "execution_count": 61,
      "outputs": []
    },
    {
      "cell_type": "code",
      "metadata": {
        "colab": {
          "base_uri": "https://localhost:8080/"
        },
        "id": "ER1h14bXBfuX",
        "outputId": "a5d4d356-7382-4fa7-d835-7103ffdf3cb1"
      },
      "source": [
        "finais = line.split(sep=',')\r\n",
        "finais"
      ],
      "execution_count": 62,
      "outputs": [
        {
          "output_type": "execute_result",
          "data": {
            "text/plain": [
              "['i1']"
            ]
          },
          "metadata": {
            "tags": []
          },
          "execution_count": 62
        }
      ]
    },
    {
      "cell_type": "code",
      "metadata": {
        "colab": {
          "base_uri": "https://localhost:8080/"
        },
        "id": "KzGOnjRnBfuY",
        "outputId": "982485e6-0158-43f6-c352-5983b24a2a73"
      },
      "source": [
        "trans = {}\r\n",
        "for est in estados:\r\n",
        "  trans[est] = {}\r\n",
        "  trans[est]['pred'] = []\r\n",
        "  for est2 in estados:\r\n",
        "    trans[est][est2] = ''\r\n",
        "trans"
      ],
      "execution_count": 63,
      "outputs": [
        {
          "output_type": "execute_result",
          "data": {
            "text/plain": [
              "{'i0': {'i0': '', 'i1': '', 'p0': '', 'p1': '', 'pred': []},\n",
              " 'i1': {'i0': '', 'i1': '', 'p0': '', 'p1': '', 'pred': []},\n",
              " 'p0': {'i0': '', 'i1': '', 'p0': '', 'p1': '', 'pred': []},\n",
              " 'p1': {'i0': '', 'i1': '', 'p0': '', 'p1': '', 'pred': []}}"
            ]
          },
          "metadata": {
            "tags": []
          },
          "execution_count": 63
        }
      ]
    },
    {
      "cell_type": "code",
      "metadata": {
        "id": "DA7_M6kMBfuY"
      },
      "source": [
        "inps = ['p0,a,i0','p0,b,i1','i0,a,p0','i0,b,p1','p1,a,i1','i1,a,p1']"
      ],
      "execution_count": 64,
      "outputs": []
    },
    {
      "cell_type": "code",
      "metadata": {
        "id": "jGSF-okfBfuY"
      },
      "source": [
        "for line in inps:\r\n",
        "  val = line.split(sep=',')\r\n",
        "  for i in range(2, len(val)):\r\n",
        "    if (val[i] == ''):\r\n",
        "      val[i] = 'λ'\r\n",
        "    if (trans[val[0]][val[i]] == ''):\r\n",
        "      trans[val[0]][val[i]] += val[1]\r\n",
        "    else:   \r\n",
        "      trans[val[0]][val[i]] += ' + ' + val[1]\r\n",
        "    if val[0] not in trans[val[i]]['pred']:\r\n",
        "      trans[val[i]]['pred'].append(val[0])"
      ],
      "execution_count": 65,
      "outputs": []
    },
    {
      "cell_type": "code",
      "metadata": {
        "colab": {
          "base_uri": "https://localhost:8080/"
        },
        "id": "6LdacVUXBfuY",
        "outputId": "bd6d4085-90bf-4992-c981-11ba215d9867"
      },
      "source": [
        "print(estados)\r\n",
        "trans"
      ],
      "execution_count": 66,
      "outputs": [
        {
          "output_type": "stream",
          "text": [
            "['p0', 'p1', 'i0', 'i1']\n"
          ],
          "name": "stdout"
        },
        {
          "output_type": "execute_result",
          "data": {
            "text/plain": [
              "{'i0': {'i0': '', 'i1': '', 'p0': 'a', 'p1': 'b', 'pred': ['p0']},\n",
              " 'i1': {'i0': '', 'i1': '', 'p0': '', 'p1': 'a', 'pred': ['p0', 'p1']},\n",
              " 'p0': {'i0': 'a', 'i1': 'b', 'p0': '', 'p1': '', 'pred': ['i0']},\n",
              " 'p1': {'i0': '', 'i1': 'a', 'p0': '', 'p1': '', 'pred': ['i0', 'i1']}}"
            ]
          },
          "metadata": {
            "tags": []
          },
          "execution_count": 66
        }
      ]
    },
    {
      "cell_type": "code",
      "metadata": {
        "colab": {
          "base_uri": "https://localhost:8080/"
        },
        "id": "dfA0TZGOBfuZ",
        "outputId": "a7a3bf3a-af22-4490-9019-506d4c132668"
      },
      "source": [
        "for est in estados:\r\n",
        "  for est2 in estados:\r\n",
        "    if (len(trans[est][est2])==0):\r\n",
        "      trans[est].pop(est2)\r\n",
        "trans"
      ],
      "execution_count": 67,
      "outputs": [
        {
          "output_type": "execute_result",
          "data": {
            "text/plain": [
              "{'i0': {'p0': 'a', 'p1': 'b', 'pred': ['p0']},\n",
              " 'i1': {'p1': 'a', 'pred': ['p0', 'p1']},\n",
              " 'p0': {'i0': 'a', 'i1': 'b', 'pred': ['i0']},\n",
              " 'p1': {'i1': 'a', 'pred': ['i0', 'i1']}}"
            ]
          },
          "metadata": {
            "tags": []
          },
          "execution_count": 67
        }
      ]
    },
    {
      "cell_type": "code",
      "metadata": {
        "colab": {
          "base_uri": "https://localhost:8080/"
        },
        "id": "-OTNGC5QBfuZ",
        "outputId": "892c236a-3c3b-4629-94bf-0a2c2967c8c9"
      },
      "source": [
        "inter = []\r\n",
        "for est in estados:\r\n",
        "  if (est not in iniciais and est not in finais):\r\n",
        "    inter.append(est)\r\n",
        "  if (est in trans[est].keys()):\r\n",
        "    trans[est][est] = '(' + trans[est][est] + ')*'\r\n",
        "inter"
      ],
      "execution_count": 68,
      "outputs": [
        {
          "output_type": "execute_result",
          "data": {
            "text/plain": [
              "['p1', 'i0']"
            ]
          },
          "metadata": {
            "tags": []
          },
          "execution_count": 68
        }
      ]
    },
    {
      "cell_type": "code",
      "metadata": {
        "colab": {
          "base_uri": "https://localhost:8080/"
        },
        "id": "mzmVs1B7BfuZ",
        "outputId": "648da9c3-a913-4080-fce0-75ebf6343d5b"
      },
      "source": [
        "mod = []\r\n",
        "for est in inter:\r\n",
        "  trans = remove(est, trans, finais, mod)\r\n",
        "\r\n",
        "regex = ''\r\n",
        "counter = 0\r\n",
        "for inicial in iniciais:\r\n",
        "  if (inicial in trans[inicial].keys() and inicial not in mod):\r\n",
        "    regex += trans[inicial][inicial]\r\n",
        "  for final in finais:\r\n",
        "    if (final != 'pred' and final in trans[inicial].keys()):\r\n",
        "      print('inicial:', inicial)\r\n",
        "      print('final:', final)\r\n",
        "      print(regex)\r\n",
        "      if (counter == 0):\r\n",
        "        regex += '(' + trans[inicial][final] + ')'\r\n",
        "      else:\r\n",
        "        regex += ' + (' + trans[inicial][final] + ')'\r\n",
        "      print(regex)\r\n",
        "      counter += 1"
      ],
      "execution_count": 69,
      "outputs": [
        {
          "output_type": "stream",
          "text": [
            "E1:  i0\n",
            "E:  p1\n",
            "E2:  i1\n",
            "- - - - - - - - -\n",
            "E1:  i1\n",
            "E:  p1\n",
            "E2:  i1\n",
            "- - - - - - - - -\n",
            "E1:  p0\n",
            "E:  i0\n",
            "E2:  p0\n",
            "- - - - - - - - -\n",
            "E1:  p0\n",
            "E:  i0\n",
            "E2:  p1\n",
            "- - - - - - - - -\n",
            "E1:  p0\n",
            "E:  i0\n",
            "E2:  i1\n",
            "- - - - - - - - -\n",
            "inicial: p0\n",
            "final: i1\n",
            "\n",
            "((b) + (((a)(a))*(a))((b)(a)))\n"
          ],
          "name": "stdout"
        }
      ]
    },
    {
      "cell_type": "code",
      "metadata": {
        "id": "hVLG7QpGBfua"
      },
      "source": [
        ""
      ],
      "execution_count": 69,
      "outputs": []
    },
    {
      "cell_type": "code",
      "metadata": {
        "colab": {
          "base_uri": "https://localhost:8080/",
          "height": 35
        },
        "id": "9QdXXo66Bfua",
        "outputId": "0f150a50-843e-4685-f578-1722fe246968"
      },
      "source": [
        "regex"
      ],
      "execution_count": 70,
      "outputs": [
        {
          "output_type": "execute_result",
          "data": {
            "application/vnd.google.colaboratory.intrinsic+json": {
              "type": "string"
            },
            "text/plain": [
              "'((b) + (((a)(a))*(a))((b)(a)))'"
            ]
          },
          "metadata": {
            "tags": []
          },
          "execution_count": 70
        }
      ]
    },
    {
      "cell_type": "code",
      "metadata": {
        "colab": {
          "base_uri": "https://localhost:8080/"
        },
        "id": "UH0D7BZMBfua",
        "outputId": "0b280385-f01d-478f-ab5e-5776584ce9e0"
      },
      "source": [
        "trans"
      ],
      "execution_count": 71,
      "outputs": [
        {
          "output_type": "execute_result",
          "data": {
            "text/plain": [
              "{'i0': {'i1': '(b)(a)', 'p0': 'a', 'p1': 'b', 'pred': ['p0']},\n",
              " 'i1': {'p1': '((a)(a))*', 'pred': ['p0', 'i1']},\n",
              " 'p0': {'i0': '((a)(a))*(a)',\n",
              "  'i1': '(b) + (((a)(a))*(a))((b)(a))',\n",
              "  'p1': '(((a)(a))*(a))(b)',\n",
              "  'pred': ['p0']},\n",
              " 'p1': {'i1': 'a', 'pred': ['i1', 'p0']}}"
            ]
          },
          "metadata": {
            "tags": []
          },
          "execution_count": 71
        }
      ]
    }
  ]
}